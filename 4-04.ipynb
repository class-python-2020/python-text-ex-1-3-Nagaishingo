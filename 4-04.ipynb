{
 "metadata": {
  "language_info": {
   "codemirror_mode": {
    "name": "ipython",
    "version": 3
   },
   "file_extension": ".py",
   "mimetype": "text/x-python",
   "name": "python",
   "nbconvert_exporter": "python",
   "pygments_lexer": "ipython3",
   "version": 3
  },
  "orig_nbformat": 2,
  "kernelspec": {
   "name": "python_defaultSpec_1597263300833",
   "display_name": "Python 3.8.2 32-bit"
  }
 },
 "nbformat": 4,
 "nbformat_minor": 2,
 "cells": [
  {
   "cell_type": "code",
   "execution_count": 3,
   "metadata": {
    "tags": []
   },
   "outputs": [
    {
     "output_type": "stream",
     "name": "stdout",
     "text": "animal: cat\nanimal in my_func: cat\nvagetable in_the_func: carrot\n"
    }
   ],
   "source": [
    "animal = \"cat\"\n",
    "print(\"animal:\",animal)\n",
    "\n",
    "def my_func():\n",
    "    vegetable = \"carrot\"\n",
    "    print(\"animal in my_func:\",animal)\n",
    "    print(\"vagetable in_the_func:\",vegetable)\n",
    "\n",
    "my_func()"
   ]
  },
  {
   "cell_type": "code",
   "execution_count": 4,
   "metadata": {},
   "outputs": [
    {
     "output_type": "error",
     "ename": "NameError",
     "evalue": "name 'vegetable' is not defined",
     "traceback": [
      "\u001b[1;31m---------------------------------------------------------------------------\u001b[0m",
      "\u001b[1;31mNameError\u001b[0m                                 Traceback (most recent call last)",
      "\u001b[1;32m<ipython-input-4-e59602755aa6>\u001b[0m in \u001b[0;36m<module>\u001b[1;34m\u001b[0m\n\u001b[1;32m----> 1\u001b[1;33m \u001b[0mprint\u001b[0m\u001b[1;33m(\u001b[0m\u001b[1;34m\"vegetable:\"\u001b[0m\u001b[1;33m,\u001b[0m\u001b[0mvegetable\u001b[0m\u001b[1;33m)\u001b[0m\u001b[1;33m\u001b[0m\u001b[1;33m\u001b[0m\u001b[0m\n\u001b[0m",
      "\u001b[1;31mNameError\u001b[0m: name 'vegetable' is not defined"
     ]
    }
   ],
   "source": [
    "print(\"vegetable:\",vegetable)"
   ]
  },
  {
   "cell_type": "code",
   "execution_count": 5,
   "metadata": {
    "tags": []
   },
   "outputs": [
    {
     "output_type": "stream",
     "name": "stdout",
     "text": "animal: cat\nanimal in my_func: dog\nanimal global after my_func: cat\n"
    }
   ],
   "source": [
    "animal = \"cat\"\n",
    "print(\"animal:\",animal)\n",
    "\n",
    "def my_func():\n",
    "    animal = \"dog\"\n",
    "    print(\"animal in my_func:\",animal)\n",
    "\n",
    "my_func()\n",
    "\n",
    "print(\"animal global after my_func:\",animal)"
   ]
  },
  {
   "cell_type": "code",
   "execution_count": 6,
   "metadata": {
    "tags": []
   },
   "outputs": [
    {
     "output_type": "stream",
     "name": "stdout",
     "text": "animal: cat\nanimal in my_func_alter: dog\nanimal global alter my_func_alter: dog\n"
    }
   ],
   "source": [
    "animal = \"cat\"\n",
    "print(\"animal:\",animal)\n",
    "\n",
    "def my_func_alter():\n",
    "    global animal\n",
    "    animal = \"dog\"\n",
    "    print(\"animal in my_func_alter:\",animal)\n",
    "\n",
    "my_func_alter()\n",
    "\n",
    "print(\"animal global alter my_func_alter:\",animal)"
   ]
  },
  {
   "cell_type": "code",
   "execution_count": 10,
   "metadata": {},
   "outputs": [],
   "source": [
    "vote_num = 0\n",
    "def vote():\n",
    "    print(\"投票\")\n",
    "    global vote_num\n",
    "    vote_num += 1\n",
    "\n",
    "def reset_vote():\n",
    "    print(\"初期化\")\n",
    "    global vote_num\n",
    "    vote_num = 0\n",
    "\n",
    "def check_vote():\n",
    "    print(\"確認\")\n",
    "    global vote_num\n",
    "    print(\"票数は{}\".format(vote_num))\n"
   ]
  },
  {
   "cell_type": "code",
   "execution_count": 11,
   "metadata": {
    "tags": []
   },
   "outputs": [
    {
     "output_type": "stream",
     "name": "stdout",
     "text": "投票\n投票\n投票\n確認\n票数は3\n投票\n確認\n票数は4\n初期化\n確認\n票数は0\n"
    }
   ],
   "source": [
    "vote()\n",
    "vote()\n",
    "vote()\n",
    "check_vote()\n",
    "vote()\n",
    "check_vote()\n",
    "reset_vote()\n",
    "check_vote()"
   ]
  },
  {
   "cell_type": "code",
   "execution_count": 12,
   "metadata": {},
   "outputs": [],
   "source": [
    "vote_num = 0\n",
    "\n",
    "def vote(vote_n):\n",
    "    print(\"投票\")\n",
    "    vote_n += 1\n",
    "    return vote_n\n",
    "\n",
    "def reset_box(vote_n):\n",
    "    print(\"初期化\")\n",
    "    vote_n = 0\n",
    "    return vote_n\n",
    "\n",
    "def check_box(vote_n):\n",
    "    print(\"票の数は{}です。\".format(vote_n))\n",
    "    return"
   ]
  },
  {
   "cell_type": "code",
   "execution_count": 13,
   "metadata": {
    "tags": []
   },
   "outputs": [
    {
     "output_type": "stream",
     "name": "stdout",
     "text": "投票\n票の数は1です。\n"
    }
   ],
   "source": [
    "vote_num = vote(vote_num)\n",
    "check_box(vote_num)"
   ]
  },
  {
   "cell_type": "code",
   "execution_count": null,
   "metadata": {},
   "outputs": [],
   "source": []
  }
 ]
}